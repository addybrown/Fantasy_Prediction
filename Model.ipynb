{
 "cells": [
  {
   "cell_type": "code",
   "execution_count": 173,
   "metadata": {},
   "outputs": [],
   "source": [
    "import pandas as pd \n",
    "import numpy as np\n",
    "import seaborn as sns \n",
    "import tensorflow as tf"
   ]
  },
  {
   "cell_type": "code",
   "execution_count": 174,
   "metadata": {},
   "outputs": [],
   "source": [
    "from keras.models import Sequential\n",
    "from keras.layers import Dense, Dropout, LSTM, BatchNormalization\n",
    "from keras.callbacks import TensorBoard\n",
    "from keras.callbacks import ModelCheckpoint\n",
    "from keras.optimizers import adam,rmsprop,SGD\n",
    "from keras.callbacks import EarlyStopping"
   ]
  },
  {
   "cell_type": "code",
   "execution_count": 175,
   "metadata": {},
   "outputs": [],
   "source": [
    "def create_model(learning_rate, num_dense_layers,\n",
    "                 num_dense_nodes, num_features):\n",
    "# create model\n",
    "    model = Sequential()\n",
    "    \n",
    "    model.add(Dense(num_features, activation='relu',kernel_initializer='random_uniform'))\n",
    "    \n",
    "    \n",
    "    for i in range(num_dense_layers):\n",
    "        # Name of the layer. This is not really necessary\n",
    "        # because Keras should give them unique names.\n",
    "        name = 'layer_dense_{0}'.format(i+1)\n",
    "\n",
    "        # Add the dense / fully-connected layer to the model.\n",
    "        # This has two hyper-parameters we want to optimize:\n",
    "        # The number of nodes and the activation function.\n",
    "        model.add(Dense(num_dense_nodes,\n",
    "                        activation='relu',\n",
    "                       name=name))\n",
    "        \n",
    "    model.add(Dense(1,activation='relu'))\n",
    "    \n",
    "    \n",
    "    #Optimizer = SGD(lr=learning_rate, momentum=0.3, decay=0)\n",
    "    #Optimizer=adam(lr=learning_rate,beta_1=0.98,beta_2=0.58)\n",
    "    #Optimizer=rmsprop(lr=learning_rate,rho=0.90)\n",
    "    # Compile model\n",
    "    model.compile(optimizer='adam',\n",
    "                  loss='mse',\n",
    "                  metrics=['mse'])\n",
    "    \n",
    "    \n",
    "    return model"
   ]
  },
  {
   "cell_type": "code",
   "execution_count": 232,
   "metadata": {},
   "outputs": [],
   "source": [
    "train_data=pd.read_csv('data-files/train_data.csv')\n",
    "train_data.drop('Unnamed: 0',axis=1,inplace=True)"
   ]
  },
  {
   "cell_type": "code",
   "execution_count": 265,
   "metadata": {},
   "outputs": [],
   "source": [
    "test_data=pd.read_csv('data-files/Season_2019.csv')\n",
    "test_data.drop('Unnamed: 0',axis=1,inplace=True)"
   ]
  },
  {
   "cell_type": "code",
   "execution_count": 226,
   "metadata": {},
   "outputs": [],
   "source": [
    "train_data=train_data[['Player','MPG','PER','VORP','BPM','OBPM','WS','OWS','DWS','Fantasy_PPG']]\n",
    "test_data=test_data[['Player','MPG','PER','VORP','BPM','OBPM','WS','OWS','DWS']]"
   ]
  },
  {
   "cell_type": "code",
   "execution_count": 179,
   "metadata": {},
   "outputs": [],
   "source": [
    "x=train_data[['MPG','PER','VORP','BPM','OBPM','WS','OWS','DWS']]\n",
    "y=train_data['Fantasy_PPG']"
   ]
  },
  {
   "cell_type": "code",
   "execution_count": 180,
   "metadata": {},
   "outputs": [],
   "source": [
    "x=np.asarray(x)\n",
    "y=np.asarray(y).reshape(len(y),1)"
   ]
  },
  {
   "cell_type": "code",
   "execution_count": 181,
   "metadata": {},
   "outputs": [],
   "source": [
    "from sklearn.model_selection import train_test_split"
   ]
  },
  {
   "cell_type": "code",
   "execution_count": 182,
   "metadata": {},
   "outputs": [],
   "source": [
    "x_train,x_test,y_train,y_test=train_test_split(x,y,random_state=101,test_size=0.3)"
   ]
  },
  {
   "cell_type": "code",
   "execution_count": 183,
   "metadata": {},
   "outputs": [],
   "source": [
    "model=create_model(learning_rate=0.40,num_dense_layers=10,num_dense_nodes=200,num_features=len(x[0]))"
   ]
  },
  {
   "cell_type": "code",
   "execution_count": 184,
   "metadata": {},
   "outputs": [],
   "source": [
    "es = EarlyStopping(monitor='loss', mode='min', verbose=1, patience=50)"
   ]
  },
  {
   "cell_type": "code",
   "execution_count": 185,
   "metadata": {
    "scrolled": true
   },
   "outputs": [
    {
     "name": "stdout",
     "output_type": "stream",
     "text": [
      "Epoch 1/100\n",
      "6946/6946 [==============================] - 5s 758us/step - loss: 21.6664 - mean_squared_error: 21.6664\n",
      "Epoch 2/100\n",
      "6946/6946 [==============================] - 3s 398us/step - loss: 4.0431 - mean_squared_error: 4.0431\n",
      "Epoch 3/100\n",
      "6946/6946 [==============================] - 3s 392us/step - loss: 2.4306 - mean_squared_error: 2.4306\n",
      "Epoch 4/100\n",
      "6946/6946 [==============================] - 3s 392us/step - loss: 2.5131 - mean_squared_error: 2.5131\n",
      "Epoch 5/100\n",
      "6946/6946 [==============================] - 3s 389us/step - loss: 2.4562 - mean_squared_error: 2.4562\n",
      "Epoch 6/100\n",
      "6946/6946 [==============================] - 3s 393us/step - loss: 2.6004 - mean_squared_error: 2.6004\n",
      "Epoch 7/100\n",
      "6946/6946 [==============================] - 3s 390us/step - loss: 3.3483 - mean_squared_error: 3.3483\n",
      "Epoch 8/100\n",
      "6946/6946 [==============================] - 3s 389us/step - loss: 2.7171 - mean_squared_error: 2.7171\n",
      "Epoch 9/100\n",
      "6946/6946 [==============================] - 3s 414us/step - loss: 2.2443 - mean_squared_error: 2.2443\n",
      "Epoch 10/100\n",
      "6946/6946 [==============================] - 3s 390us/step - loss: 2.3501 - mean_squared_error: 2.3501\n",
      "Epoch 11/100\n",
      "6946/6946 [==============================] - 3s 398us/step - loss: 1.9910 - mean_squared_error: 1.9910\n",
      "Epoch 12/100\n",
      "6946/6946 [==============================] - 3s 379us/step - loss: 2.2950 - mean_squared_error: 2.2950\n",
      "Epoch 13/100\n",
      "6946/6946 [==============================] - 3s 389us/step - loss: 2.2788 - mean_squared_error: 2.2788\n",
      "Epoch 14/100\n",
      "6946/6946 [==============================] - 3s 394us/step - loss: 2.1184 - mean_squared_error: 2.1184\n",
      "Epoch 15/100\n",
      "6946/6946 [==============================] - 3s 402us/step - loss: 1.8949 - mean_squared_error: 1.8949\n",
      "Epoch 16/100\n",
      "6946/6946 [==============================] - 3s 382us/step - loss: 2.4701 - mean_squared_error: 2.4701\n",
      "Epoch 17/100\n",
      "6946/6946 [==============================] - 3s 386us/step - loss: 1.9021 - mean_squared_error: 1.9021\n",
      "Epoch 18/100\n",
      "6946/6946 [==============================] - 3s 381us/step - loss: 1.9696 - mean_squared_error: 1.9696\n",
      "Epoch 19/100\n",
      "6946/6946 [==============================] - 3s 392us/step - loss: 1.7970 - mean_squared_error: 1.7970\n",
      "Epoch 20/100\n",
      "6946/6946 [==============================] - 3s 385us/step - loss: 2.0913 - mean_squared_error: 2.0913\n",
      "Epoch 21/100\n",
      "6946/6946 [==============================] - 3s 385us/step - loss: 1.8554 - mean_squared_error: 1.8554\n",
      "Epoch 22/100\n",
      "6946/6946 [==============================] - 3s 397us/step - loss: 1.7432 - mean_squared_error: 1.7432\n",
      "Epoch 23/100\n",
      "6946/6946 [==============================] - 3s 369us/step - loss: 2.3631 - mean_squared_error: 2.3631\n",
      "Epoch 24/100\n",
      "6946/6946 [==============================] - 3s 403us/step - loss: 1.7829 - mean_squared_error: 1.7829\n",
      "Epoch 25/100\n",
      "6946/6946 [==============================] - 3s 387us/step - loss: 1.8707 - mean_squared_error: 1.8707\n",
      "Epoch 26/100\n",
      "6946/6946 [==============================] - 3s 391us/step - loss: 2.1982 - mean_squared_error: 2.1982\n",
      "Epoch 27/100\n",
      "6946/6946 [==============================] - 3s 370us/step - loss: 1.9862 - mean_squared_error: 1.9862\n",
      "Epoch 28/100\n",
      "6946/6946 [==============================] - 3s 412us/step - loss: 1.9890 - mean_squared_error: 1.9890\n",
      "Epoch 29/100\n",
      "6946/6946 [==============================] - 3s 381us/step - loss: 2.0818 - mean_squared_error: 2.0818\n",
      "Epoch 30/100\n",
      "6946/6946 [==============================] - 3s 379us/step - loss: 2.0057 - mean_squared_error: 2.0057\n",
      "Epoch 31/100\n",
      "6946/6946 [==============================] - 3s 371us/step - loss: 2.1608 - mean_squared_error: 2.1608\n",
      "Epoch 32/100\n",
      "6946/6946 [==============================] - 3s 385us/step - loss: 1.9745 - mean_squared_error: 1.9745\n",
      "Epoch 33/100\n",
      "6946/6946 [==============================] - 3s 374us/step - loss: 2.1123 - mean_squared_error: 2.1123\n",
      "Epoch 34/100\n",
      "6946/6946 [==============================] - 3s 373us/step - loss: 2.0052 - mean_squared_error: 2.0052\n",
      "Epoch 35/100\n",
      "6946/6946 [==============================] - 3s 373us/step - loss: 2.0177 - mean_squared_error: 2.0177\n",
      "Epoch 36/100\n",
      "6946/6946 [==============================] - 3s 374us/step - loss: 1.7837 - mean_squared_error: 1.7837\n",
      "Epoch 37/100\n",
      "6946/6946 [==============================] - 2s 300us/step - loss: 2.0519 - mean_squared_error: 2.0519\n",
      "Epoch 38/100\n",
      "6946/6946 [==============================] - 2s 353us/step - loss: 1.8211 - mean_squared_error: 1.8211\n",
      "Epoch 39/100\n",
      "6946/6946 [==============================] - 2s 357us/step - loss: 1.9109 - mean_squared_error: 1.9109\n",
      "Epoch 40/100\n",
      "6946/6946 [==============================] - 2s 349us/step - loss: 1.7463 - mean_squared_error: 1.7463\n",
      "Epoch 41/100\n",
      "6946/6946 [==============================] - 3s 362us/step - loss: 1.8276 - mean_squared_error: 1.8276\n",
      "Epoch 42/100\n",
      "6946/6946 [==============================] - 2s 359us/step - loss: 1.7361 - mean_squared_error: 1.7361\n",
      "Epoch 43/100\n",
      "6946/6946 [==============================] - 3s 376us/step - loss: 2.0172 - mean_squared_error: 2.0172\n",
      "Epoch 44/100\n",
      "6946/6946 [==============================] - 2s 349us/step - loss: 1.9781 - mean_squared_error: 1.9781\n",
      "Epoch 45/100\n",
      "6946/6946 [==============================] - 2s 341us/step - loss: 1.8114 - mean_squared_error: 1.8114\n",
      "Epoch 46/100\n",
      "6946/6946 [==============================] - 2s 359us/step - loss: 1.8870 - mean_squared_error: 1.8870\n",
      "Epoch 47/100\n",
      "6946/6946 [==============================] - 4s 630us/step - loss: 1.8187 - mean_squared_error: 1.8187\n",
      "Epoch 48/100\n",
      "6946/6946 [==============================] - 5s 651us/step - loss: 1.7993 - mean_squared_error: 1.7993\n",
      "Epoch 49/100\n",
      "6946/6946 [==============================] - 2s 356us/step - loss: 1.8468 - mean_squared_error: 1.8468\n",
      "Epoch 50/100\n",
      "6946/6946 [==============================] - 2s 337us/step - loss: 2.0460 - mean_squared_error: 2.0460\n",
      "Epoch 51/100\n",
      "6946/6946 [==============================] - 2s 333us/step - loss: 1.8765 - mean_squared_error: 1.8765\n",
      "Epoch 52/100\n",
      "6946/6946 [==============================] - 2s 344us/step - loss: 1.9801 - mean_squared_error: 1.9801\n",
      "Epoch 53/100\n",
      "6946/6946 [==============================] - 2s 331us/step - loss: 1.8339 - mean_squared_error: 1.8339\n",
      "Epoch 54/100\n",
      "6946/6946 [==============================] - 2s 334us/step - loss: 1.8375 - mean_squared_error: 1.8375\n",
      "Epoch 55/100\n",
      "6946/6946 [==============================] - 2s 323us/step - loss: 1.7867 - mean_squared_error: 1.7867\n",
      "Epoch 56/100\n",
      "6946/6946 [==============================] - 2s 331us/step - loss: 1.6975 - mean_squared_error: 1.6975\n",
      "Epoch 57/100\n",
      "6946/6946 [==============================] - 2s 326us/step - loss: 1.8201 - mean_squared_error: 1.8201\n",
      "Epoch 58/100\n",
      "6946/6946 [==============================] - 2s 327us/step - loss: 1.9979 - mean_squared_error: 1.9979\n",
      "Epoch 59/100\n",
      "6946/6946 [==============================] - 2s 331us/step - loss: 1.6629 - mean_squared_error: 1.6629\n",
      "Epoch 60/100\n",
      "6946/6946 [==============================] - 2s 316us/step - loss: 1.7196 - mean_squared_error: 1.7196\n",
      "Epoch 61/100\n",
      "6946/6946 [==============================] - 2s 333us/step - loss: 1.8103 - mean_squared_error: 1.8103\n",
      "Epoch 62/100\n",
      "6946/6946 [==============================] - 2s 306us/step - loss: 1.6630 - mean_squared_error: 1.6630\n",
      "Epoch 63/100\n",
      "6946/6946 [==============================] - 2s 317us/step - loss: 1.6642 - mean_squared_error: 1.6642\n",
      "Epoch 64/100\n",
      "6946/6946 [==============================] - 2s 320us/step - loss: 1.9293 - mean_squared_error: 1.9293\n",
      "Epoch 65/100\n",
      "6946/6946 [==============================] - 2s 318us/step - loss: 1.6905 - mean_squared_error: 1.6905\n",
      "Epoch 66/100\n",
      "6946/6946 [==============================] - 2s 314us/step - loss: 1.8106 - mean_squared_error: 1.8106\n",
      "Epoch 67/100\n",
      "6946/6946 [==============================] - 2s 318us/step - loss: 1.7596 - mean_squared_error: 1.7596\n",
      "Epoch 68/100\n",
      "6946/6946 [==============================] - 2s 296us/step - loss: 1.9980 - mean_squared_error: 1.9980\n",
      "Epoch 69/100\n",
      "6946/6946 [==============================] - 2s 320us/step - loss: 1.5880 - mean_squared_error: 1.5880\n",
      "Epoch 70/100\n",
      "6946/6946 [==============================] - 2s 301us/step - loss: 1.8480 - mean_squared_error: 1.8480\n",
      "Epoch 71/100\n"
     ]
    },
    {
     "name": "stdout",
     "output_type": "stream",
     "text": [
      "6946/6946 [==============================] - 3s 384us/step - loss: 1.8919 - mean_squared_error: 1.8919\n",
      "Epoch 72/100\n",
      "6946/6946 [==============================] - 3s 392us/step - loss: 1.5572 - mean_squared_error: 1.5572\n",
      "Epoch 73/100\n",
      "6946/6946 [==============================] - 3s 388us/step - loss: 1.7167 - mean_squared_error: 1.7167\n",
      "Epoch 74/100\n",
      "6946/6946 [==============================] - 2s 306us/step - loss: 1.6236 - mean_squared_error: 1.6236\n",
      "Epoch 75/100\n",
      "6946/6946 [==============================] - 2s 294us/step - loss: 1.7781 - mean_squared_error: 1.7781\n",
      "Epoch 76/100\n",
      "6946/6946 [==============================] - 2s 345us/step - loss: 1.6003 - mean_squared_error: 1.6003\n",
      "Epoch 77/100\n",
      "6946/6946 [==============================] - 3s 406us/step - loss: 1.9327 - mean_squared_error: 1.9327\n",
      "Epoch 78/100\n",
      "6946/6946 [==============================] - 3s 394us/step - loss: 1.6194 - mean_squared_error: 1.6194\n",
      "Epoch 79/100\n",
      "6946/6946 [==============================] - 3s 393us/step - loss: 1.7669 - mean_squared_error: 1.7669\n",
      "Epoch 80/100\n",
      "6946/6946 [==============================] - 3s 390us/step - loss: 1.8452 - mean_squared_error: 1.8452\n",
      "Epoch 81/100\n",
      "6946/6946 [==============================] - 3s 395us/step - loss: 1.6318 - mean_squared_error: 1.6318\n",
      "Epoch 82/100\n",
      "6946/6946 [==============================] - 3s 391us/step - loss: 1.6496 - mean_squared_error: 1.6496\n",
      "Epoch 83/100\n",
      "6946/6946 [==============================] - 3s 399us/step - loss: 1.8295 - mean_squared_error: 1.8295\n",
      "Epoch 84/100\n",
      "6946/6946 [==============================] - 3s 388us/step - loss: 1.6234 - mean_squared_error: 1.6234\n",
      "Epoch 85/100\n",
      "6946/6946 [==============================] - 3s 396us/step - loss: 1.8751 - mean_squared_error: 1.8751\n",
      "Epoch 86/100\n",
      "6946/6946 [==============================] - 3s 369us/step - loss: 1.7916 - mean_squared_error: 1.7916\n",
      "Epoch 87/100\n",
      "6946/6946 [==============================] - 3s 389us/step - loss: 1.5755 - mean_squared_error: 1.5755\n",
      "Epoch 88/100\n",
      "6946/6946 [==============================] - 3s 362us/step - loss: 1.6940 - mean_squared_error: 1.6940\n",
      "Epoch 89/100\n",
      "6946/6946 [==============================] - 3s 393us/step - loss: 1.6896 - mean_squared_error: 1.6896\n",
      "Epoch 90/100\n",
      "6946/6946 [==============================] - 3s 389us/step - loss: 1.5722 - mean_squared_error: 1.5722\n",
      "Epoch 91/100\n",
      "6946/6946 [==============================] - 3s 395us/step - loss: 1.7346 - mean_squared_error: 1.7346\n",
      "Epoch 92/100\n",
      "6946/6946 [==============================] - 3s 366us/step - loss: 1.6719 - mean_squared_error: 1.6719\n",
      "Epoch 93/100\n",
      "6946/6946 [==============================] - 2s 347us/step - loss: 1.6629 - mean_squared_error: 1.6629\n",
      "Epoch 94/100\n",
      "6946/6946 [==============================] - 3s 391us/step - loss: 1.6341 - mean_squared_error: 1.6341\n",
      "Epoch 95/100\n",
      "6946/6946 [==============================] - 3s 398us/step - loss: 1.6533 - mean_squared_error: 1.6533\n",
      "Epoch 96/100\n",
      "6946/6946 [==============================] - 3s 374us/step - loss: 1.8902 - mean_squared_error: 1.8902\n",
      "Epoch 97/100\n",
      "6946/6946 [==============================] - 3s 390us/step - loss: 1.6772 - mean_squared_error: 1.6772\n",
      "Epoch 98/100\n",
      "6946/6946 [==============================] - 3s 376us/step - loss: 1.7053 - mean_squared_error: 1.7053\n",
      "Epoch 99/100\n",
      "6946/6946 [==============================] - 3s 383us/step - loss: 1.7215 - mean_squared_error: 1.7215\n",
      "Epoch 100/100\n",
      "6946/6946 [==============================] - 2s 358us/step - loss: 1.6339 - mean_squared_error: 1.6339\n"
     ]
    }
   ],
   "source": [
    "history=model.fit(x=x_train.astype(float),y=y_train.astype(float),batch_size=30, epochs=100,callbacks=[es])"
   ]
  },
  {
   "cell_type": "code",
   "execution_count": 186,
   "metadata": {},
   "outputs": [],
   "source": [
    "import matplotlib.pyplot as plt"
   ]
  },
  {
   "cell_type": "code",
   "execution_count": 248,
   "metadata": {},
   "outputs": [
    {
     "data": {
      "text/plain": [
       "Text(0,0.5,'Mean-Squared-Error')"
      ]
     },
     "execution_count": 248,
     "metadata": {},
     "output_type": "execute_result"
    },
    {
     "data": {
      "image/png": "[encoded data removed]",
      "text/plain": [
       "<Figure size 432x288 with 1 Axes>"
      ]
     },
     "metadata": {},
     "output_type": "display_data"
    }
   ],
   "source": [
    "plt.plot(history.history['mean_squared_error'])\n",
    "plt.xlabel('Epochs')\n",
    "plt.ylabel('Mean-Squared-Error')"
   ]
  },
  {
   "cell_type": "code",
   "execution_count": 188,
   "metadata": {},
   "outputs": [
    {
     "data": {
      "text/plain": [
       "0.977343239834543"
      ]
     },
     "execution_count": 188,
     "metadata": {},
     "output_type": "execute_result"
    }
   ],
   "source": [
    "np.mean(np.abs(model.predict(x_test.astype(float))-y_test.astype(float)))"
   ]
  },
  {
   "cell_type": "code",
   "execution_count": 266,
   "metadata": {},
   "outputs": [],
   "source": [
    "test_data.index=test_data['Player']\n",
    "test_data.drop('Player',axis=1,inplace=True)\n",
    "predictions=pd.DataFrame(index=test_data.index,data=model.predict(test_data))"
   ]
  },
  {
   "cell_type": "code",
   "execution_count": 267,
   "metadata": {},
   "outputs": [],
   "source": [
    "predictions.sort_values(0,ascending=False,inplace=True)\n",
    "predictions.rename(columns={0: 'Fantasy_PPG_Prediction'},inplace=True)"
   ]
  },
  {
   "cell_type": "code",
   "execution_count": 269,
   "metadata": {},
   "outputs": [],
   "source": [
    "predictions.to_csv('2018_2019_Predictions.csv')"
   ]
  },
  {
   "cell_type": "code",
   "execution_count": null,
   "metadata": {},
   "outputs": [],
   "source": []
  }
 ],
 "metadata": {
  "kernelspec": {
   "display_name": "Python 3",
   "language": "python",
   "name": "python3"
  },
  "language_info": {
   "codemirror_mode": {
    "name": "ipython",
    "version": 3
   },
   "file_extension": ".py",
   "mimetype": "text/x-python",
   "name": "python",
   "nbconvert_exporter": "python",
   "pygments_lexer": "ipython3",
   "version": "3.6.5"
  }
 },
 "nbformat": 4,
 "nbformat_minor": 2
}
