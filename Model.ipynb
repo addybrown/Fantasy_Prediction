{
 "cells": [
  {
   "cell_type": "code",
   "execution_count": 1,
   "metadata": {},
   "outputs": [],
   "source": [
    "import pandas as pd \n",
    "import numpy as np\n",
    "import seaborn as sns \n",
    "import tensorflow as tf"
   ]
  },
  {
   "cell_type": "code",
   "execution_count": 2,
   "metadata": {},
   "outputs": [
    {
     "name": "stderr",
     "output_type": "stream",
     "text": [
      "Using TensorFlow backend.\n"
     ]
    }
   ],
   "source": [
    "from keras.models import Sequential\n",
    "from keras.layers import Dense, Dropout, LSTM, BatchNormalization\n",
    "from keras.callbacks import TensorBoard\n",
    "from keras.callbacks import ModelCheckpoint\n",
    "from keras.optimizers import adam,rmsprop,SGD\n",
    "from keras.callbacks import EarlyStopping"
   ]
  },
  {
   "cell_type": "code",
   "execution_count": 15,
   "metadata": {},
   "outputs": [],
   "source": [
    "def create_model(learning_rate, num_dense_layers,\n",
    "                 num_dense_nodes, num_features):\n",
    "# create model\n",
    "    model = Sequential()\n",
    "    \n",
    "    model.add(Dense(num_features, activation='relu',kernel_initializer='random_uniform'))\n",
    "    \n",
    "    \n",
    "    for i in range(num_dense_layers):\n",
    "        # Name of the layer. This is not really necessary\n",
    "        # because Keras should give them unique names.\n",
    "        name = 'layer_dense_{0}'.format(i+1)\n",
    "\n",
    "        # Add the dense / fully-connected layer to the model.\n",
    "        # This has two hyper-parameters we want to optimize:\n",
    "        # The number of nodes and the activation function.\n",
    "        model.add(Dense(num_dense_nodes,\n",
    "                        activation='relu',\n",
    "                       name=name))\n",
    "        \n",
    "    model.add(Dense(1,activation='relu'))\n",
    "    \n",
    "    \n",
    "    #Optimizer = SGD(lr=learning_rate, momentum=0.3, decay=0)\n",
    "    #Optimizer=adam(lr=learning_rate,beta_1=0.98,beta_2=0.58)\n",
    "    #Optimizer=rmsprop(lr=learning_rate,rho=0.90)\n",
    "    # Compile model\n",
    "    model.compile(optimizer='adam',\n",
    "                  loss='mse',\n",
    "                  metrics=['mse'])\n",
    "    \n",
    "    \n",
    "    return model"
   ]
  },
  {
   "cell_type": "code",
   "execution_count": 16,
   "metadata": {},
   "outputs": [],
   "source": [
    "train_data=pd.read_csv('data-files/train_data.csv')\n",
    "train_data.drop('Unnamed: 0',axis=1,inplace=True)"
   ]
  },
  {
   "cell_type": "code",
   "execution_count": 17,
   "metadata": {},
   "outputs": [],
   "source": [
    "test_data=pd.read_csv('data-files/Season_2019.csv')\n",
    "test_data.drop('Unnamed: 0',axis=1,inplace=True)"
   ]
  },
  {
   "cell_type": "code",
   "execution_count": 18,
   "metadata": {},
   "outputs": [],
   "source": [
    "train_data=train_data[['Player','MPG','PER','VORP','BPM','OBPM','WS','OWS','DWS','Fantasy_PPG']]\n",
    "test_data=test_data[['Player','MPG','PER','VORP','BPM','OBPM','WS','OWS','DWS']]"
   ]
  },
  {
   "cell_type": "code",
   "execution_count": 19,
   "metadata": {},
   "outputs": [],
   "source": [
    "x=train_data[['MPG','PER','VORP','BPM','OBPM','WS','OWS','DWS']]\n",
    "y=train_data['Fantasy_PPG']"
   ]
  },
  {
   "cell_type": "code",
   "execution_count": 20,
   "metadata": {},
   "outputs": [],
   "source": [
    "x=np.asarray(x)\n",
    "y=np.asarray(y).reshape(len(y),1)"
   ]
  },
  {
   "cell_type": "code",
   "execution_count": 21,
   "metadata": {},
   "outputs": [],
   "source": [
    "from sklearn.model_selection import train_test_split"
   ]
  },
  {
   "cell_type": "code",
   "execution_count": 22,
   "metadata": {},
   "outputs": [],
   "source": [
    "x_train,x_test,y_train,y_test=train_test_split(x,y,random_state=101,test_size=0.3)"
   ]
  },
  {
   "cell_type": "code",
   "execution_count": 23,
   "metadata": {},
   "outputs": [],
   "source": [
    "model=create_model(learning_rate=0.40,num_dense_layers=10,num_dense_nodes=200,num_features=len(x[0]))"
   ]
  },
  {
   "cell_type": "code",
   "execution_count": 24,
   "metadata": {},
   "outputs": [],
   "source": [
    "es = EarlyStopping(monitor='loss', mode='min', verbose=1, patience=50)"
   ]
  },
  {
   "cell_type": "code",
   "execution_count": 25,
   "metadata": {
    "scrolled": true
   },
   "outputs": [
    {
     "name": "stdout",
     "output_type": "stream",
     "text": [
      "Epoch 1/100\n",
      "6946/6946 [==============================] - 2s 254us/step - loss: 22.3896 - mean_squared_error: 22.3896\n",
      "Epoch 2/100\n",
      "6946/6946 [==============================] - 1s 157us/step - loss: 4.6974 - mean_squared_error: 4.6974\n",
      "Epoch 3/100\n",
      "6946/6946 [==============================] - 1s 151us/step - loss: 2.5324 - mean_squared_error: 2.5324\n",
      "Epoch 4/100\n",
      "6946/6946 [==============================] - 1s 151us/step - loss: 3.0185 - mean_squared_error: 3.0185\n",
      "Epoch 5/100\n",
      "6946/6946 [==============================] - 1s 152us/step - loss: 2.1218 - mean_squared_error: 2.1218\n",
      "Epoch 6/100\n",
      "6946/6946 [==============================] - 1s 152us/step - loss: 2.2542 - mean_squared_error: 2.2542\n",
      "Epoch 7/100\n",
      "6946/6946 [==============================] - 1s 153us/step - loss: 2.2199 - mean_squared_error: 2.2199\n",
      "Epoch 8/100\n",
      "6946/6946 [==============================] - 1s 153us/step - loss: 2.3637 - mean_squared_error: 2.3637\n",
      "Epoch 9/100\n",
      "6946/6946 [==============================] - 1s 157us/step - loss: 2.4711 - mean_squared_error: 2.4711\n",
      "Epoch 10/100\n",
      "6946/6946 [==============================] - 1s 157us/step - loss: 2.3483 - mean_squared_error: 2.3483\n",
      "Epoch 11/100\n",
      "6946/6946 [==============================] - 1s 158us/step - loss: 2.1476 - mean_squared_error: 2.1476\n",
      "Epoch 12/100\n",
      "6946/6946 [==============================] - 1s 165us/step - loss: 2.4144 - mean_squared_error: 2.4144\n",
      "Epoch 13/100\n",
      "6946/6946 [==============================] - 1s 154us/step - loss: 1.9833 - mean_squared_error: 1.9833\n",
      "Epoch 14/100\n",
      "6946/6946 [==============================] - 1s 153us/step - loss: 1.8177 - mean_squared_error: 1.8177\n",
      "Epoch 15/100\n",
      "6946/6946 [==============================] - 1s 150us/step - loss: 1.8770 - mean_squared_error: 1.8770\n",
      "Epoch 16/100\n",
      "6946/6946 [==============================] - 1s 161us/step - loss: 2.3003 - mean_squared_error: 2.3003\n",
      "Epoch 17/100\n",
      "6946/6946 [==============================] - 1s 154us/step - loss: 2.5599 - mean_squared_error: 2.5599\n",
      "Epoch 18/100\n",
      "6946/6946 [==============================] - 1s 149us/step - loss: 2.2483 - mean_squared_error: 2.2483\n",
      "Epoch 19/100\n",
      "6946/6946 [==============================] - 1s 149us/step - loss: 1.9133 - mean_squared_error: 1.9133\n",
      "Epoch 20/100\n",
      "6946/6946 [==============================] - 1s 151us/step - loss: 1.9989 - mean_squared_error: 1.9989\n",
      "Epoch 21/100\n",
      "6946/6946 [==============================] - 1s 150us/step - loss: 2.2487 - mean_squared_error: 2.2487\n",
      "Epoch 22/100\n",
      "6946/6946 [==============================] - 1s 151us/step - loss: 1.9018 - mean_squared_error: 1.9018\n",
      "Epoch 23/100\n",
      "6946/6946 [==============================] - 1s 151us/step - loss: 2.0822 - mean_squared_error: 2.0822\n",
      "Epoch 24/100\n",
      "6946/6946 [==============================] - 1s 150us/step - loss: 2.0680 - mean_squared_error: 2.0680\n",
      "Epoch 25/100\n",
      "6946/6946 [==============================] - 1s 154us/step - loss: 2.0130 - mean_squared_error: 2.0130\n",
      "Epoch 26/100\n",
      "6946/6946 [==============================] - 1s 159us/step - loss: 1.8570 - mean_squared_error: 1.8570\n",
      "Epoch 27/100\n",
      "6946/6946 [==============================] - 1s 158us/step - loss: 2.1728 - mean_squared_error: 2.1728\n",
      "Epoch 28/100\n",
      "6946/6946 [==============================] - 1s 158us/step - loss: 1.9729 - mean_squared_error: 1.9729\n",
      "Epoch 29/100\n",
      "6946/6946 [==============================] - 1s 158us/step - loss: 2.1838 - mean_squared_error: 2.1838\n",
      "Epoch 30/100\n",
      "6946/6946 [==============================] - 1s 159us/step - loss: 2.0518 - mean_squared_error: 2.0518\n",
      "Epoch 31/100\n",
      "6946/6946 [==============================] - 1s 169us/step - loss: 1.9618 - mean_squared_error: 1.9618\n",
      "Epoch 32/100\n",
      "6946/6946 [==============================] - 1s 166us/step - loss: 2.0198 - mean_squared_error: 2.0198\n",
      "Epoch 33/100\n",
      "6946/6946 [==============================] - 1s 158us/step - loss: 2.3107 - mean_squared_error: 2.3107\n",
      "Epoch 34/100\n",
      "6946/6946 [==============================] - 1s 162us/step - loss: 2.3446 - mean_squared_error: 2.3446\n",
      "Epoch 35/100\n",
      "6946/6946 [==============================] - 1s 160us/step - loss: 1.8316 - mean_squared_error: 1.8316\n",
      "Epoch 36/100\n",
      "6946/6946 [==============================] - 1s 159us/step - loss: 1.8000 - mean_squared_error: 1.8000\n",
      "Epoch 37/100\n",
      "6946/6946 [==============================] - 1s 157us/step - loss: 1.9848 - mean_squared_error: 1.9848\n",
      "Epoch 38/100\n",
      "6946/6946 [==============================] - 1s 156us/step - loss: 1.7685 - mean_squared_error: 1.7685\n",
      "Epoch 39/100\n",
      "6946/6946 [==============================] - 1s 160us/step - loss: 1.9071 - mean_squared_error: 1.9071\n",
      "Epoch 40/100\n",
      "6946/6946 [==============================] - 1s 153us/step - loss: 1.7503 - mean_squared_error: 1.7503\n",
      "Epoch 41/100\n",
      "6946/6946 [==============================] - 1s 160us/step - loss: 2.0588 - mean_squared_error: 2.0588\n",
      "Epoch 42/100\n",
      "6946/6946 [==============================] - 1s 165us/step - loss: 1.9037 - mean_squared_error: 1.9037\n",
      "Epoch 43/100\n",
      "6946/6946 [==============================] - 1s 159us/step - loss: 1.9044 - mean_squared_error: 1.9044\n",
      "Epoch 44/100\n",
      "6946/6946 [==============================] - 1s 159us/step - loss: 1.8597 - mean_squared_error: 1.8597\n",
      "Epoch 45/100\n",
      "6946/6946 [==============================] - 1s 165us/step - loss: 2.1039 - mean_squared_error: 2.1039\n",
      "Epoch 46/100\n",
      "6946/6946 [==============================] - 1s 171us/step - loss: 1.7670 - mean_squared_error: 1.7670\n",
      "Epoch 47/100\n",
      "6946/6946 [==============================] - 1s 160us/step - loss: 2.0869 - mean_squared_error: 2.0869\n",
      "Epoch 48/100\n",
      "6946/6946 [==============================] - 1s 160us/step - loss: 1.8163 - mean_squared_error: 1.8163\n",
      "Epoch 49/100\n",
      "6946/6946 [==============================] - 1s 158us/step - loss: 2.0978 - mean_squared_error: 2.0978\n",
      "Epoch 50/100\n",
      "6946/6946 [==============================] - 1s 155us/step - loss: 2.0218 - mean_squared_error: 2.0218\n",
      "Epoch 51/100\n",
      "6946/6946 [==============================] - 1s 156us/step - loss: 1.7213 - mean_squared_error: 1.7213\n",
      "Epoch 52/100\n",
      "6946/6946 [==============================] - 1s 155us/step - loss: 1.8708 - mean_squared_error: 1.8708\n",
      "Epoch 53/100\n",
      "6946/6946 [==============================] - 1s 156us/step - loss: 1.7426 - mean_squared_error: 1.7426\n",
      "Epoch 54/100\n",
      "6946/6946 [==============================] - 1s 154us/step - loss: 1.6839 - mean_squared_error: 1.6839\n",
      "Epoch 55/100\n",
      "6946/6946 [==============================] - 1s 157us/step - loss: 2.0992 - mean_squared_error: 2.0992\n",
      "Epoch 56/100\n",
      "6946/6946 [==============================] - 1s 155us/step - loss: 2.1866 - mean_squared_error: 2.1866\n",
      "Epoch 57/100\n",
      "6946/6946 [==============================] - 1s 155us/step - loss: 1.7696 - mean_squared_error: 1.7696\n",
      "Epoch 58/100\n",
      "6946/6946 [==============================] - 1s 156us/step - loss: 1.6459 - mean_squared_error: 1.6459\n",
      "Epoch 59/100\n",
      "6946/6946 [==============================] - 1s 155us/step - loss: 1.6215 - mean_squared_error: 1.6215\n",
      "Epoch 60/100\n",
      "6946/6946 [==============================] - 1s 165us/step - loss: 1.7798 - mean_squared_error: 1.7798\n",
      "Epoch 61/100\n",
      "6946/6946 [==============================] - 1s 165us/step - loss: 1.8461 - mean_squared_error: 1.8461\n",
      "Epoch 62/100\n",
      "6946/6946 [==============================] - 1s 163us/step - loss: 2.1376 - mean_squared_error: 2.1376\n",
      "Epoch 63/100\n",
      "6946/6946 [==============================] - 1s 163us/step - loss: 1.6642 - mean_squared_error: 1.6642\n",
      "Epoch 64/100\n",
      "6946/6946 [==============================] - 1s 159us/step - loss: 2.2761 - mean_squared_error: 2.2761\n",
      "Epoch 65/100\n",
      "6946/6946 [==============================] - 1s 161us/step - loss: 1.5778 - mean_squared_error: 1.5778\n",
      "Epoch 66/100\n",
      "6946/6946 [==============================] - 1s 158us/step - loss: 1.7468 - mean_squared_error: 1.7468\n",
      "Epoch 67/100\n",
      "6946/6946 [==============================] - 1s 157us/step - loss: 1.5877 - mean_squared_error: 1.5877\n",
      "Epoch 68/100\n",
      "6946/6946 [==============================] - 1s 155us/step - loss: 1.5577 - mean_squared_error: 1.5577\n",
      "Epoch 69/100\n",
      "6946/6946 [==============================] - 1s 158us/step - loss: 1.7421 - mean_squared_error: 1.7421\n",
      "Epoch 70/100\n",
      "6946/6946 [==============================] - 1s 166us/step - loss: 1.7545 - mean_squared_error: 1.7545\n",
      "Epoch 71/100\n"
     ]
    },
    {
     "name": "stdout",
     "output_type": "stream",
     "text": [
      "6946/6946 [==============================] - 1s 157us/step - loss: 1.7604 - mean_squared_error: 1.7604\n",
      "Epoch 72/100\n",
      "6946/6946 [==============================] - 1s 155us/step - loss: 1.6842 - mean_squared_error: 1.6842\n",
      "Epoch 73/100\n",
      "6946/6946 [==============================] - 1s 156us/step - loss: 1.8881 - mean_squared_error: 1.8881\n",
      "Epoch 74/100\n",
      "6946/6946 [==============================] - 1s 162us/step - loss: 1.7394 - mean_squared_error: 1.7394\n",
      "Epoch 75/100\n",
      "6946/6946 [==============================] - 1s 174us/step - loss: 1.7308 - mean_squared_error: 1.7308\n",
      "Epoch 76/100\n",
      "6946/6946 [==============================] - 1s 164us/step - loss: 1.7859 - mean_squared_error: 1.7859\n",
      "Epoch 77/100\n",
      "6946/6946 [==============================] - 1s 164us/step - loss: 1.5852 - mean_squared_error: 1.5852\n",
      "Epoch 78/100\n",
      "6946/6946 [==============================] - 1s 160us/step - loss: 1.5666 - mean_squared_error: 1.5666\n",
      "Epoch 79/100\n",
      "6946/6946 [==============================] - 1s 156us/step - loss: 1.6360 - mean_squared_error: 1.6360\n",
      "Epoch 80/100\n",
      "6946/6946 [==============================] - 1s 163us/step - loss: 1.9789 - mean_squared_error: 1.9789\n",
      "Epoch 81/100\n",
      "6946/6946 [==============================] - 1s 162us/step - loss: 1.7762 - mean_squared_error: 1.7762\n",
      "Epoch 82/100\n",
      "6946/6946 [==============================] - 1s 167us/step - loss: 1.7477 - mean_squared_error: 1.7477\n",
      "Epoch 83/100\n",
      "6946/6946 [==============================] - 1s 165us/step - loss: 1.7549 - mean_squared_error: 1.7549\n",
      "Epoch 84/100\n",
      "6946/6946 [==============================] - 1s 165us/step - loss: 1.8913 - mean_squared_error: 1.8913\n",
      "Epoch 85/100\n",
      "6946/6946 [==============================] - 1s 162us/step - loss: 1.9204 - mean_squared_error: 1.9204\n",
      "Epoch 86/100\n",
      "6946/6946 [==============================] - 1s 154us/step - loss: 1.5415 - mean_squared_error: 1.5415\n",
      "Epoch 87/100\n",
      "6946/6946 [==============================] - 1s 161us/step - loss: 1.8515 - mean_squared_error: 1.8515\n",
      "Epoch 88/100\n",
      "6946/6946 [==============================] - 1s 159us/step - loss: 1.6127 - mean_squared_error: 1.6127\n",
      "Epoch 89/100\n",
      "6946/6946 [==============================] - 1s 178us/step - loss: 1.7420 - mean_squared_error: 1.7420\n",
      "Epoch 90/100\n",
      "6946/6946 [==============================] - 1s 155us/step - loss: 1.8625 - mean_squared_error: 1.8625\n",
      "Epoch 91/100\n",
      "6946/6946 [==============================] - 1s 163us/step - loss: 1.8858 - mean_squared_error: 1.8858\n",
      "Epoch 92/100\n",
      "6946/6946 [==============================] - 1s 158us/step - loss: 1.8160 - mean_squared_error: 1.8160\n",
      "Epoch 93/100\n",
      "6946/6946 [==============================] - 1s 166us/step - loss: 1.7652 - mean_squared_error: 1.7652\n",
      "Epoch 94/100\n",
      "6946/6946 [==============================] - 1s 162us/step - loss: 1.5782 - mean_squared_error: 1.5782\n",
      "Epoch 95/100\n",
      "6946/6946 [==============================] - 1s 166us/step - loss: 1.8127 - mean_squared_error: 1.8127\n",
      "Epoch 96/100\n",
      "6946/6946 [==============================] - 1s 162us/step - loss: 1.6324 - mean_squared_error: 1.6324\n",
      "Epoch 97/100\n",
      "6946/6946 [==============================] - 1s 164us/step - loss: 1.7329 - mean_squared_error: 1.7329\n",
      "Epoch 98/100\n",
      "6946/6946 [==============================] - 1s 164us/step - loss: 1.8568 - mean_squared_error: 1.8568\n",
      "Epoch 99/100\n",
      "6946/6946 [==============================] - 1s 175us/step - loss: 1.7746 - mean_squared_error: 1.7746\n",
      "Epoch 100/100\n",
      "6946/6946 [==============================] - 1s 158us/step - loss: 1.5750 - mean_squared_error: 1.5750\n"
     ]
    }
   ],
   "source": [
    "history=model.fit(x=x_train.astype(float),y=y_train.astype(float),batch_size=30, epochs=100,callbacks=[es])"
   ]
  },
  {
   "cell_type": "code",
   "execution_count": 26,
   "metadata": {},
   "outputs": [],
   "source": [
    "import matplotlib.pyplot as plt"
   ]
  },
  {
   "cell_type": "code",
   "execution_count": 27,
   "metadata": {},
   "outputs": [
    {
     "data": {
      "text/plain": [
       "Text(0, 0.5, 'Mean-Squared-Error')"
      ]
     },
     "execution_count": 27,
     "metadata": {},
     "output_type": "execute_result"
    },
    {
     "data": {
      "image/png": "[encoded data removed]",
      "text/plain": [
       "<Figure size 432x288 with 1 Axes>"
      ]
     },
     "metadata": {
      "needs_background": "light"
     },
     "output_type": "display_data"
    }
   ],
   "source": [
    "plt.plot(history.history['mean_squared_error'])\n",
    "plt.xlabel('Epochs')\n",
    "plt.ylabel('Mean-Squared-Error')"
   ]
  },
  {
   "cell_type": "code",
   "execution_count": 28,
   "metadata": {},
   "outputs": [
    {
     "data": {
      "text/plain": [
       "0.8638920342813059"
      ]
     },
     "execution_count": 28,
     "metadata": {},
     "output_type": "execute_result"
    }
   ],
   "source": [
    "np.mean(np.abs(model.predict(x_test.astype(float))-y_test.astype(float)))"
   ]
  },
  {
   "cell_type": "code",
   "execution_count": 29,
   "metadata": {},
   "outputs": [],
   "source": [
    "test_data.index=test_data['Player']\n",
    "test_data.drop('Player',axis=1,inplace=True)\n",
    "predictions=pd.DataFrame(index=test_data.index,data=model.predict(test_data))"
   ]
  },
  {
   "cell_type": "code",
   "execution_count": 30,
   "metadata": {},
   "outputs": [],
   "source": [
    "predictions.sort_values(0,ascending=False,inplace=True)\n",
    "predictions.rename(columns={0: 'Fantasy_PPG_Prediction'},inplace=True)"
   ]
  },
  {
   "cell_type": "code",
   "execution_count": 32,
   "metadata": {},
   "outputs": [],
   "source": [
    "predictions.to_csv('data-files/2018_2019_Predictions.csv')"
   ]
  },
  {
   "cell_type": "code",
   "execution_count": 33,
   "metadata": {},
   "outputs": [
    {
     "name": "stdout",
     "output_type": "stream",
     "text": [
      "Saved to disk\n"
     ]
    }
   ],
   "source": [
    "model_json=model.to_json()\n",
    "\n",
    "with open(\"model.json\",\"w\") as json_file:\n",
    "    json_file.write(model_json)\n",
    "model.save_weights(\"model.h5\")\n",
    "\n",
    "print(\"Saved to disk\")"
   ]
  },
  {
   "cell_type": "code",
   "execution_count": null,
   "metadata": {},
   "outputs": [],
   "source": []
  }
 ],
 "metadata": {
  "kernelspec": {
   "display_name": "Python 3",
   "language": "python",
   "name": "python3"
  },
  "language_info": {
   "codemirror_mode": {
    "name": "ipython",
    "version": 3
   },
   "file_extension": ".py",
   "mimetype": "text/x-python",
   "name": "python",
   "nbconvert_exporter": "python",
   "pygments_lexer": "ipython3",
   "version": "3.7.1"
  }
 },
 "nbformat": 4,
 "nbformat_minor": 2
}
